{
 "cells": [
  {
   "cell_type": "code",
   "execution_count": 1,
   "metadata": {},
   "outputs": [
    {
     "name": "stdout",
     "output_type": "stream",
     "text": [
      "Requirement already satisfied: pandas in c:\\users\\asus\\appdata\\local\\programs\\python\\python312\\lib\\site-packages (2.3.1)\n",
      "Requirement already satisfied: openpyxl in c:\\users\\asus\\appdata\\local\\programs\\python\\python312\\lib\\site-packages (3.1.5)\n",
      "Requirement already satisfied: numpy>=1.26.0 in c:\\users\\asus\\appdata\\local\\programs\\python\\python312\\lib\\site-packages (from pandas) (2.3.2)\n",
      "Requirement already satisfied: python-dateutil>=2.8.2 in c:\\users\\asus\\appdata\\local\\programs\\python\\python312\\lib\\site-packages (from pandas) (2.9.0.post0)\n",
      "Requirement already satisfied: pytz>=2020.1 in c:\\users\\asus\\appdata\\local\\programs\\python\\python312\\lib\\site-packages (from pandas) (2025.2)\n",
      "Requirement already satisfied: tzdata>=2022.7 in c:\\users\\asus\\appdata\\local\\programs\\python\\python312\\lib\\site-packages (from pandas) (2025.2)\n",
      "Requirement already satisfied: et-xmlfile in c:\\users\\asus\\appdata\\local\\programs\\python\\python312\\lib\\site-packages (from openpyxl) (2.0.0)\n",
      "Requirement already satisfied: six>=1.5 in c:\\users\\asus\\appdata\\local\\programs\\python\\python312\\lib\\site-packages (from python-dateutil>=2.8.2->pandas) (1.17.0)\n",
      "Note: you may need to restart the kernel to use updated packages.\n"
     ]
    },
    {
     "name": "stderr",
     "output_type": "stream",
     "text": [
      "\n",
      "[notice] A new release of pip is available: 24.0 -> 25.1.1\n",
      "[notice] To update, run: python.exe -m pip install --upgrade pip\n"
     ]
    }
   ],
   "source": [
    "pip install pandas openpyxl"
   ]
  },
  {
   "cell_type": "code",
   "execution_count": 2,
   "metadata": {},
   "outputs": [],
   "source": [
    "import pandas as pd"
   ]
  },
  {
   "cell_type": "code",
   "execution_count": 3,
   "metadata": {},
   "outputs": [
    {
     "data": {
      "text/html": [
       "<div>\n",
       "<style scoped>\n",
       "    .dataframe tbody tr th:only-of-type {\n",
       "        vertical-align: middle;\n",
       "    }\n",
       "\n",
       "    .dataframe tbody tr th {\n",
       "        vertical-align: top;\n",
       "    }\n",
       "\n",
       "    .dataframe thead th {\n",
       "        text-align: right;\n",
       "    }\n",
       "</style>\n",
       "<table border=\"1\" class=\"dataframe\">\n",
       "  <thead>\n",
       "    <tr style=\"text-align: right;\">\n",
       "      <th></th>\n",
       "      <th>indicator</th>\n",
       "      <th>País__ESTANDAR</th>\n",
       "      <th>Años__ESTANDAR</th>\n",
       "      <th>value</th>\n",
       "      <th>unit</th>\n",
       "      <th>notes_ids</th>\n",
       "      <th>source_id</th>\n",
       "    </tr>\n",
       "  </thead>\n",
       "  <tbody>\n",
       "    <tr>\n",
       "      <th>0</th>\n",
       "      <td>Variación de temperatura media</td>\n",
       "      <td>América Central</td>\n",
       "      <td>1961</td>\n",
       "      <td>-0.136</td>\n",
       "      <td>Grados celsius</td>\n",
       "      <td>NaN</td>\n",
       "      <td>651.0</td>\n",
       "    </tr>\n",
       "    <tr>\n",
       "      <th>1</th>\n",
       "      <td>Variación de temperatura media</td>\n",
       "      <td>América Central</td>\n",
       "      <td>1962</td>\n",
       "      <td>0.080</td>\n",
       "      <td>Grados celsius</td>\n",
       "      <td>NaN</td>\n",
       "      <td>651.0</td>\n",
       "    </tr>\n",
       "    <tr>\n",
       "      <th>2</th>\n",
       "      <td>Variación de temperatura media</td>\n",
       "      <td>América Central</td>\n",
       "      <td>1963</td>\n",
       "      <td>0.141</td>\n",
       "      <td>Grados celsius</td>\n",
       "      <td>NaN</td>\n",
       "      <td>651.0</td>\n",
       "    </tr>\n",
       "    <tr>\n",
       "      <th>3</th>\n",
       "      <td>Variación de temperatura media</td>\n",
       "      <td>América Central</td>\n",
       "      <td>1964</td>\n",
       "      <td>-0.262</td>\n",
       "      <td>Grados celsius</td>\n",
       "      <td>NaN</td>\n",
       "      <td>651.0</td>\n",
       "    </tr>\n",
       "    <tr>\n",
       "      <th>4</th>\n",
       "      <td>Variación de temperatura media</td>\n",
       "      <td>América Central</td>\n",
       "      <td>1965</td>\n",
       "      <td>-0.071</td>\n",
       "      <td>Grados celsius</td>\n",
       "      <td>NaN</td>\n",
       "      <td>651.0</td>\n",
       "    </tr>\n",
       "    <tr>\n",
       "      <th>...</th>\n",
       "      <td>...</td>\n",
       "      <td>...</td>\n",
       "      <td>...</td>\n",
       "      <td>...</td>\n",
       "      <td>...</td>\n",
       "      <td>...</td>\n",
       "      <td>...</td>\n",
       "    </tr>\n",
       "    <tr>\n",
       "      <th>181</th>\n",
       "      <td>Variación de temperatura media</td>\n",
       "      <td>América del Sur</td>\n",
       "      <td>2021</td>\n",
       "      <td>0.996</td>\n",
       "      <td>Grados celsius</td>\n",
       "      <td>NaN</td>\n",
       "      <td>651.0</td>\n",
       "    </tr>\n",
       "    <tr>\n",
       "      <th>182</th>\n",
       "      <td>Variación de temperatura media</td>\n",
       "      <td>El Caribe</td>\n",
       "      <td>2021</td>\n",
       "      <td>1.078</td>\n",
       "      <td>Grados celsius</td>\n",
       "      <td>8576.0</td>\n",
       "      <td>651.0</td>\n",
       "    </tr>\n",
       "    <tr>\n",
       "      <th>183</th>\n",
       "      <td>Variación de temperatura media</td>\n",
       "      <td>América Central</td>\n",
       "      <td>2022</td>\n",
       "      <td>1.091</td>\n",
       "      <td>Grados celsius</td>\n",
       "      <td>NaN</td>\n",
       "      <td>NaN</td>\n",
       "    </tr>\n",
       "    <tr>\n",
       "      <th>184</th>\n",
       "      <td>Variación de temperatura media</td>\n",
       "      <td>América del Sur</td>\n",
       "      <td>2022</td>\n",
       "      <td>0.797</td>\n",
       "      <td>Grados celsius</td>\n",
       "      <td>NaN</td>\n",
       "      <td>NaN</td>\n",
       "    </tr>\n",
       "    <tr>\n",
       "      <th>185</th>\n",
       "      <td>Variación de temperatura media</td>\n",
       "      <td>El Caribe</td>\n",
       "      <td>2022</td>\n",
       "      <td>1.145</td>\n",
       "      <td>Grados celsius</td>\n",
       "      <td>NaN</td>\n",
       "      <td>NaN</td>\n",
       "    </tr>\n",
       "  </tbody>\n",
       "</table>\n",
       "<p>186 rows × 7 columns</p>\n",
       "</div>"
      ],
      "text/plain": [
       "                          indicator   País__ESTANDAR  Años__ESTANDAR  value  \\\n",
       "0    Variación de temperatura media  América Central            1961 -0.136   \n",
       "1    Variación de temperatura media  América Central            1962  0.080   \n",
       "2    Variación de temperatura media  América Central            1963  0.141   \n",
       "3    Variación de temperatura media  América Central            1964 -0.262   \n",
       "4    Variación de temperatura media  América Central            1965 -0.071   \n",
       "..                              ...              ...             ...    ...   \n",
       "181  Variación de temperatura media  América del Sur            2021  0.996   \n",
       "182  Variación de temperatura media        El Caribe            2021  1.078   \n",
       "183  Variación de temperatura media  América Central            2022  1.091   \n",
       "184  Variación de temperatura media  América del Sur            2022  0.797   \n",
       "185  Variación de temperatura media        El Caribe            2022  1.145   \n",
       "\n",
       "               unit  notes_ids  source_id  \n",
       "0    Grados celsius        NaN      651.0  \n",
       "1    Grados celsius        NaN      651.0  \n",
       "2    Grados celsius        NaN      651.0  \n",
       "3    Grados celsius        NaN      651.0  \n",
       "4    Grados celsius        NaN      651.0  \n",
       "..              ...        ...        ...  \n",
       "181  Grados celsius        NaN      651.0  \n",
       "182  Grados celsius     8576.0      651.0  \n",
       "183  Grados celsius        NaN        NaN  \n",
       "184  Grados celsius        NaN        NaN  \n",
       "185  Grados celsius        NaN        NaN  \n",
       "\n",
       "[186 rows x 7 columns]"
      ]
     },
     "execution_count": 3,
     "metadata": {},
     "output_type": "execute_result"
    }
   ],
   "source": [
    "df_temperaturaMundial = pd.read_excel('../Datasets/Temperatura_Mundial.xlsx', sheet_name='datos')\n",
    "df_temperaturaMundial"
   ]
  },
  {
   "cell_type": "code",
   "execution_count": 4,
   "metadata": {},
   "outputs": [
    {
     "name": "stdout",
     "output_type": "stream",
     "text": [
      "<class 'pandas.core.frame.DataFrame'>\n",
      "RangeIndex: 186 entries, 0 to 185\n",
      "Data columns (total 7 columns):\n",
      " #   Column          Non-Null Count  Dtype  \n",
      "---  ------          --------------  -----  \n",
      " 0   indicator       186 non-null    object \n",
      " 1   País__ESTANDAR  186 non-null    object \n",
      " 2   Años__ESTANDAR  186 non-null    int64  \n",
      " 3   value           186 non-null    float64\n",
      " 4   unit            186 non-null    object \n",
      " 5   notes_ids       61 non-null     float64\n",
      " 6   source_id       183 non-null    float64\n",
      "dtypes: float64(3), int64(1), object(3)\n",
      "memory usage: 10.3+ KB\n"
     ]
    }
   ],
   "source": [
    "df_temperaturaMundial.info()"
   ]
  },
  {
   "cell_type": "code",
   "execution_count": 5,
   "metadata": {},
   "outputs": [],
   "source": [
    "df_temperaturaMundial.to_csv('Temperatura_Mundial.csv', index=False)"
   ]
  }
 ],
 "metadata": {
  "kernelspec": {
   "display_name": "Python 3",
   "language": "python",
   "name": "python3"
  },
  "language_info": {
   "codemirror_mode": {
    "name": "ipython",
    "version": 3
   },
   "file_extension": ".py",
   "mimetype": "text/x-python",
   "name": "python",
   "nbconvert_exporter": "python",
   "pygments_lexer": "ipython3",
   "version": "3.12.3"
  }
 },
 "nbformat": 4,
 "nbformat_minor": 2
}
