{
 "cells": [
  {
   "cell_type": "code",
   "execution_count": 24,
   "metadata": {},
   "outputs": [],
   "source": [
    "import xmltodict\n",
    "import json"
   ]
  },
  {
   "cell_type": "code",
   "execution_count": 25,
   "metadata": {},
   "outputs": [
    {
     "name": "stdout",
     "output_type": "stream",
     "text": [
      "<ROOT>\n",
      "    <data>\n",
      "        <record>\n",
      "            <field name=\"Country or Area\">Afghanistan</field>\n",
      "            <field name=\"Year\">2019</field>\n",
      "            <field name=\"Value\">17.6</field>\n",
      "            <field name=\"Value Footnotes\">1</field>\n",
      "        </record>\n",
      "        <record>\n",
      "            <field name=\"Country or Area\">Afghanistan</field>\n",
      "            <field name=\"Year\">2018</field>\n",
      "            <field name=\"Value\">16.8</field>\n",
      "            <field name=\"Value Footnotes\">2</field>\n",
      "        </record>\n",
      "      \n"
     ]
    }
   ],
   "source": [
    "# Abrir el archivo XML desde una ruta relativa\n",
    "with open('../Datasets/Solaridad Mundial.xml', 'r', encoding='utf-8') as file:\n",
    "    xml_content = file.read()\n",
    "\n",
    "# Mostrar parte del contenido (opcional)\n",
    "print(xml_content[:500])  # Muestra los primeros 500 caracteres\n"
   ]
  },
  {
   "cell_type": "code",
   "execution_count": 26,
   "metadata": {},
   "outputs": [],
   "source": [
    "dict_content = xmltodict.parse(xml_content)"
   ]
  },
  {
   "cell_type": "code",
   "execution_count": 27,
   "metadata": {},
   "outputs": [],
   "source": [
    "json_content = json.dumps(dict_content, indent=4)"
   ]
  },
  {
   "cell_type": "code",
   "execution_count": 28,
   "metadata": {},
   "outputs": [
    {
     "name": "stdout",
     "output_type": "stream",
     "text": [
      "Conversión completada. El archivo JSON se ha guardado como 'Solaridad Mundial.json'.\n"
     ]
    }
   ],
   "source": [
    "with open('Solaridad Mundial.json', 'w', encoding='utf-8') as file:\n",
    "    file.write(json_content)\n",
    "\n",
    "print(\"Conversión completada. El archivo JSON se ha guardado como 'Solaridad Mundial.json'.\")"
   ]
  }
 ],
 "metadata": {
  "kernelspec": {
   "display_name": "Python 3",
   "language": "python",
   "name": "python3"
  },
  "language_info": {
   "codemirror_mode": {
    "name": "ipython",
    "version": 3
   },
   "file_extension": ".py",
   "mimetype": "text/x-python",
   "name": "python",
   "nbconvert_exporter": "python",
   "pygments_lexer": "ipython3",
   "version": "3.12.3"
  }
 },
 "nbformat": 4,
 "nbformat_minor": 2
}
