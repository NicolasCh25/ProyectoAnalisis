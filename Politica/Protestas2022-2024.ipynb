{
 "cells": [
  {
   "cell_type": "code",
   "execution_count": 1,
   "metadata": {},
   "outputs": [],
   "source": [
    "import pandas as pd\n",
    "import datetime\n",
    "import json\n",
    "from datetime import timedelta"
   ]
  },
  {
   "cell_type": "code",
   "execution_count": 2,
   "metadata": {},
   "outputs": [],
   "source": [
    "from couchbase.exceptions import CouchbaseException\n",
    "from couchbase.auth import PasswordAuthenticator\n",
    "from couchbase.cluster import Cluster\n",
    "from couchbase.options import ClusterOptions"
   ]
  },
  {
   "cell_type": "code",
   "execution_count": 10,
   "metadata": {},
   "outputs": [],
   "source": [
    "# Configuración de Couchbase\n",
    "endpoint = \"couchbases://cb.rwijg3tkoqodgahr.cloud.couchbase.com\"\n",
    "username = \"BDD_POLITICA\"\n",
    "password = \"Admin_1234\"  # Reemplazar con la contraseña real\n",
    "bucket_name = \"BDD_POLITICA\"\n",
    "scope_name = \"OpinionPublica\"\n",
    "collection_name = \"Protestas2022-2024\""
   ]
  },
  {
   "cell_type": "code",
   "execution_count": 11,
   "metadata": {},
   "outputs": [],
   "source": [
    "# Couchbase connection setup\n",
    "auth = PasswordAuthenticator(username, password)\n",
    "options = ClusterOptions(auth)\n",
    "options.apply_profile(\"wan_development\")\n",
    "\n",
    "cluster = Cluster(endpoint, options)\n",
    "cluster.wait_until_ready(timedelta(seconds=5))\n",
    "cb = cluster.bucket(bucket_name)\n",
    "cb_coll = cb.scope(scope_name).collection(collection_name)"
   ]
  },
  {
   "cell_type": "code",
   "execution_count": 12,
   "metadata": {},
   "outputs": [
    {
     "data": {
      "text/html": [
       "<div>\n",
       "<style scoped>\n",
       "    .dataframe tbody tr th:only-of-type {\n",
       "        vertical-align: middle;\n",
       "    }\n",
       "\n",
       "    .dataframe tbody tr th {\n",
       "        vertical-align: top;\n",
       "    }\n",
       "\n",
       "    .dataframe thead th {\n",
       "        text-align: right;\n",
       "    }\n",
       "</style>\n",
       "<table border=\"1\" class=\"dataframe\">\n",
       "  <thead>\n",
       "    <tr style=\"text-align: right;\">\n",
       "      <th></th>\n",
       "      <th>proyecto_id</th>\n",
       "      <th>nombre</th>\n",
       "      <th>fecha_presentacion</th>\n",
       "      <th>fecha_votacion</th>\n",
       "      <th>resultado</th>\n",
       "      <th>votos</th>\n",
       "      <th>partidos</th>\n",
       "      <th>tema</th>\n",
       "      <th>promotor</th>\n",
       "    </tr>\n",
       "  </thead>\n",
       "  <tbody>\n",
       "    <tr>\n",
       "      <th>0</th>\n",
       "      <td>1</td>\n",
       "      <td>Rich where.</td>\n",
       "      <td>2023-06-25</td>\n",
       "      <td>2024-06-21</td>\n",
       "      <td>Archivado</td>\n",
       "      <td>{'a_favor': 59, 'en_contra': 56, 'abstenciones...</td>\n",
       "      <td>{'CREO': 'A favor', 'SUMA': 'A favor', 'ID': '...</td>\n",
       "      <td>EducaciÃ³n</td>\n",
       "      <td>UNES</td>\n",
       "    </tr>\n",
       "    <tr>\n",
       "      <th>1</th>\n",
       "      <td>2</td>\n",
       "      <td>Employee benefit.</td>\n",
       "      <td>2024-06-03</td>\n",
       "      <td>2024-06-26</td>\n",
       "      <td>Archivado</td>\n",
       "      <td>{'a_favor': 93, 'en_contra': 79, 'abstenciones...</td>\n",
       "      <td>{'ID': 'AbstenciÃ³n', 'RC': 'AbstenciÃ³n', 'PK...</td>\n",
       "      <td>Salud</td>\n",
       "      <td>CREO</td>\n",
       "    </tr>\n",
       "    <tr>\n",
       "      <th>2</th>\n",
       "      <td>3</td>\n",
       "      <td>Space affect.</td>\n",
       "      <td>2023-07-02</td>\n",
       "      <td>2024-11-19</td>\n",
       "      <td>Aprobado</td>\n",
       "      <td>{'a_favor': 75, 'en_contra': 58, 'abstenciones...</td>\n",
       "      <td>{'RC': 'AbstenciÃ³n', 'ID': 'AbstenciÃ³n'}</td>\n",
       "      <td>Salud</td>\n",
       "      <td>SUMA</td>\n",
       "    </tr>\n",
       "    <tr>\n",
       "      <th>3</th>\n",
       "      <td>4</td>\n",
       "      <td>Increase wear.</td>\n",
       "      <td>2024-02-21</td>\n",
       "      <td>2024-03-03</td>\n",
       "      <td>Aprobado</td>\n",
       "      <td>{'a_favor': 80, 'en_contra': 40, 'abstenciones...</td>\n",
       "      <td>{'RC': 'En contra', 'CREO': 'En contra', 'SUMA...</td>\n",
       "      <td>Justicia</td>\n",
       "      <td>SUMA</td>\n",
       "    </tr>\n",
       "    <tr>\n",
       "      <th>4</th>\n",
       "      <td>5</td>\n",
       "      <td>Your could.</td>\n",
       "      <td>2024-06-26</td>\n",
       "      <td>2024-12-09</td>\n",
       "      <td>Aprobado</td>\n",
       "      <td>{'a_favor': 83, 'en_contra': 47, 'abstenciones...</td>\n",
       "      <td>{'RC': 'AbstenciÃ³n', 'SUMA': 'En contra', 'UN...</td>\n",
       "      <td>EducaciÃ³n</td>\n",
       "      <td>RC</td>\n",
       "    </tr>\n",
       "  </tbody>\n",
       "</table>\n",
       "</div>"
      ],
      "text/plain": [
       "   proyecto_id             nombre fecha_presentacion fecha_votacion  \\\n",
       "0            1        Rich where.         2023-06-25     2024-06-21   \n",
       "1            2  Employee benefit.         2024-06-03     2024-06-26   \n",
       "2            3      Space affect.         2023-07-02     2024-11-19   \n",
       "3            4     Increase wear.         2024-02-21     2024-03-03   \n",
       "4            5        Your could.         2024-06-26     2024-12-09   \n",
       "\n",
       "   resultado                                              votos  \\\n",
       "0  Archivado  {'a_favor': 59, 'en_contra': 56, 'abstenciones...   \n",
       "1  Archivado  {'a_favor': 93, 'en_contra': 79, 'abstenciones...   \n",
       "2   Aprobado  {'a_favor': 75, 'en_contra': 58, 'abstenciones...   \n",
       "3   Aprobado  {'a_favor': 80, 'en_contra': 40, 'abstenciones...   \n",
       "4   Aprobado  {'a_favor': 83, 'en_contra': 47, 'abstenciones...   \n",
       "\n",
       "                                            partidos        tema promotor  \n",
       "0  {'CREO': 'A favor', 'SUMA': 'A favor', 'ID': '...  EducaciÃ³n     UNES  \n",
       "1  {'ID': 'AbstenciÃ³n', 'RC': 'AbstenciÃ³n', 'PK...       Salud     CREO  \n",
       "2         {'RC': 'AbstenciÃ³n', 'ID': 'AbstenciÃ³n'}       Salud     SUMA  \n",
       "3  {'RC': 'En contra', 'CREO': 'En contra', 'SUMA...    Justicia     SUMA  \n",
       "4  {'RC': 'AbstenciÃ³n', 'SUMA': 'En contra', 'UN...  EducaciÃ³n       RC  "
      ]
     },
     "execution_count": 12,
     "metadata": {},
     "output_type": "execute_result"
    }
   ],
   "source": [
    "# Ruta del archivo JSON generado anteriormente\n",
    "json_path = \"protestas2022-2024.json\"\n",
    "\n",
    "# Cargar los datos en un DataFrame de Pandas\n",
    "with open(json_path, \"r\") as file:\n",
    "    data = json.load(file)\n",
    "\n",
    "df = pd.DataFrame(data)\n",
    "\n",
    "# Mostrar las primeras filas para verificar la carga\n",
    "df.head()\n"
   ]
  },
  {
   "cell_type": "code",
   "execution_count": 13,
   "metadata": {},
   "outputs": [
    {
     "name": "stdout",
     "output_type": "stream",
     "text": [
      "Archivo CSV guardado en: protestas2022-2024.csv\n"
     ]
    }
   ],
   "source": [
    "# Ruta para guardar el CSV\n",
    "csv_path = \"protestas2022-2024.csv\"\n",
    "\n",
    "# Guardar el DataFrame en CSV\n",
    "df.to_csv(csv_path, index=False, encoding=\"utf-8\")\n",
    "\n",
    "print(f\"Archivo CSV guardado en: {csv_path}\")\n"
   ]
  },
  {
   "cell_type": "code",
   "execution_count": 14,
   "metadata": {},
   "outputs": [
    {
     "name": "stdout",
     "output_type": "stream",
     "text": [
      "CSV content inserted into Couchbase.\n"
     ]
    }
   ],
   "source": [
    "# Subir el archivo CSV a Couchbase \n",
    "try:\n",
    "    with open('protestas2022-2024.csv', 'r', encoding='utf-8') as f:\n",
    "        csv_content = f.read()\n",
    "    \n",
    "    cb_coll.insert('protestas2022_2024_csv', {'content': csv_content})\n",
    "    print(\"CSV content inserted into Couchbase.\")\n",
    "except CouchbaseException as e:\n",
    "    print(f\"Error inserting CSV content into Couchbase: {e}\")\n",
    "except Exception as e:\n",
    "    print(f\"General error: {e}\")"
   ]
  }
 ],
 "metadata": {
  "kernelspec": {
   "display_name": "Python 3 (ipykernel)",
   "language": "python",
   "name": "python3"
  },
  "language_info": {
   "codemirror_mode": {
    "name": "ipython",
    "version": 3
   },
   "file_extension": ".py",
   "mimetype": "text/x-python",
   "name": "python",
   "nbconvert_exporter": "python",
   "pygments_lexer": "ipython3",
   "version": "3.13.3"
  }
 },
 "nbformat": 4,
 "nbformat_minor": 4
}
