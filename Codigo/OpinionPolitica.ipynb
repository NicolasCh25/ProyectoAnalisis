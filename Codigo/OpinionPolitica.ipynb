{
 "cells": [
  {
   "cell_type": "code",
   "execution_count": 14,
   "metadata": {},
   "outputs": [],
   "source": [
    "import os\n",
    "from datetime import timedelta\n",
    "from couchbase.exceptions import CouchbaseException\n",
    "from couchbase.auth import PasswordAuthenticator\n",
    "from couchbase.cluster import Cluster\n",
    "from couchbase.options import ClusterOptions\n",
    "from twarc import Twarc2\n",
    "import pandas as pd\n",
    "import json"
   ]
  },
  {
   "cell_type": "code",
   "execution_count": 2,
   "metadata": {},
   "outputs": [],
   "source": [
    "# Configuración de Couchbase\n",
    "endpoint = \"couchbases://cb.pps-dendznwwlsxh.cloud.couchbase.com\"\n",
    "username = \"BDD_PULSOSPOLITICOS\"\n",
    "password = \"Administrador32#\"  # Reemplazar con la contraseña real\n",
    "bucket_name = \"BDD_PULSOSPOLITICOS\"\n",
    "scope_name = \"OpinionPublicaPolitica\"\n",
    "collection_name = \"OpinionesPolitica\""
   ]
  },
  {
   "cell_type": "code",
   "execution_count": 4,
   "metadata": {},
   "outputs": [],
   "source": [
    "# Load Twitter API keys from .env file\n",
    "twitter_consumer_key = os.getenv(\"TWITTER_CONSUMER_KEY\")\n",
    "twitter_consumer_secret = os.getenv(\"TWITTER_CONSUMER_SECRET\")\n",
    "twitter_access_token = os.getenv(\"TWITTER_ACCESS_TOKEN\")\n",
    "twitter_access_token_secret = os.getenv(\"TWITTER_ACCESS_TOKEN_SECRET\")"
   ]
  },
  {
   "cell_type": "code",
   "execution_count": null,
   "metadata": {},
   "outputs": [],
   "source": [
    "# Initialize Twitter API client\n",
    "twarc = Twarc2(consumer_key=twitter_consumer_key,\n",
    "               consumer_secret=twitter_consumer_secret,\n",
    "               access_token=twitter_access_token,\n",
    "               access_token_secret=twitter_access_token_secret)\n"
   ]
  },
  {
   "cell_type": "code",
   "execution_count": 6,
   "metadata": {},
   "outputs": [],
   "source": [
    "# Couchbase connection setup\n",
    "auth = PasswordAuthenticator(username, password)\n",
    "options = ClusterOptions(auth)\n",
    "options.apply_profile(\"wan_development\")\n",
    "\n",
    "cluster = Cluster(endpoint, options)\n",
    "cluster.wait_until_ready(timedelta(seconds=5))\n",
    "cb = cluster.bucket(bucket_name)\n",
    "cb_coll = cb.scope(scope_name).collection(collection_name)"
   ]
  },
  {
   "cell_type": "code",
   "execution_count": 7,
   "metadata": {},
   "outputs": [],
   "source": [
    "# Twitter query setup\n",
    "twitter_query = \"#EcuadorPolitics lang:es\"\n",
    "tweets_data = []\n"
   ]
  },
  {
   "cell_type": "code",
   "execution_count": null,
   "metadata": {},
   "outputs": [],
   "source": [
    "# Simulación de tweets obtenidos (para demostración)\n",
    "fetched_tweets = [\n",
    "    {\"id\": \"1\", \"text\": \"Tweet de ejemplo 1\", \"author_id\": \"user1\", \"created_at\": \"2025-01-26T12:00:00Z\"},\n",
    "    {\"id\": \"2\", \"text\": \"Tweet de ejemplo 2\", \"author_id\": \"user2\", \"created_at\": \"2025-01-26T12:05:00Z\"}\n",
    "]\n",
    "tweets_data = []"
   ]
  },
  {
   "cell_type": "code",
   "execution_count": null,
   "metadata": {},
   "outputs": [],
   "source": [
    "for tweet in fetched_tweets:\n",
    "    tweet_data = {\n",
    "        \"id\": tweet[\"id\"],\n",
    "        \"text\": tweet[\"text\"],\n",
    "        \"author\": tweet[\"author_id\"],\n",
    "        \"created_at\": tweet[\"created_at\"]\n",
    "    }\n",
    "    tweets_data.append(tweet_data)\n",
    "\n",
    "\n",
    "    try:\n",
    "        cb_coll.insert(tweet_data[\"id\"], tweet_data)\n",
    "        print(f\"Tweet {tweet_data['id']} inserted into Couchbase.\")\n",
    "    except CouchbaseException as e:\n",
    "        print(f\"Error inserting tweet {tweet_data['id']}: {e}\")"
   ]
  },
  {
   "cell_type": "code",
   "execution_count": 18,
   "metadata": {},
   "outputs": [
    {
     "name": "stdout",
     "output_type": "stream",
     "text": [
      "JSON file loaded successfully.\n"
     ]
    }
   ],
   "source": [
    "# Cargar datos desde el archivo JSON\n",
    "try:\n",
    "    with open(\"tweets_respuestas.json\", \"r\", encoding=\"utf-8\") as f:\n",
    "        tweets_data = json.load(f)\n",
    "    print(\"JSON file loaded successfully.\")\n",
    "except Exception as e:\n",
    "    print(f\"Error loading JSON file: {e}\")"
   ]
  },
  {
   "cell_type": "code",
   "execution_count": 19,
   "metadata": {},
   "outputs": [
    {
     "name": "stdout",
     "output_type": "stream",
     "text": [
      "CSV file created successfully.\n"
     ]
    }
   ],
   "source": [
    "# Transformar JSON a CSV y guardar en un archivo CSV\n",
    "try:\n",
    "    df = pd.DataFrame(tweets_data)\n",
    "    df.to_csv('tweets_respuestas.csv', index=False, encoding='utf-8')\n",
    "    print(\"CSV file created successfully.\")\n",
    "except Exception as e:\n",
    "    print(f\"Error creating CSV file: {e}\")"
   ]
  },
  {
   "cell_type": "code",
   "execution_count": null,
   "metadata": {},
   "outputs": [
    {
     "name": "stdout",
     "output_type": "stream",
     "text": [
      "CSV content inserted into Couchbase.\n"
     ]
    }
   ],
   "source": [
    "# Subir el archivo CSV a Couchbase \n",
    "try:\n",
    "    with open('tweets_respuestas.csv', 'r', encoding='utf-8') as f:\n",
    "        csv_content = f.read()\n",
    "    \n",
    "    cb_coll.insert('tweets_respuestas_csv', {'content': csv_content})\n",
    "    print(\"CSV content inserted into Couchbase.\")\n",
    "except CouchbaseException as e:\n",
    "    print(f\"Error inserting CSV content into Couchbase: {e}\")\n",
    "except Exception as e:\n",
    "    print(f\"General error: {e}\")"
   ]
  }
 ],
 "metadata": {
  "kernelspec": {
   "display_name": "Python 3 (ipykernel)",
   "language": "python",
   "name": "python3"
  },
  "language_info": {
   "codemirror_mode": {
    "name": "ipython",
    "version": 3
   },
   "file_extension": ".py",
   "mimetype": "text/x-python",
   "name": "python",
   "nbconvert_exporter": "python",
   "pygments_lexer": "ipython3",
   "version": "3.13.3"
  }
 },
 "nbformat": 4,
 "nbformat_minor": 4
}
